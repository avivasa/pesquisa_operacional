{
  "nbformat": 4,
  "nbformat_minor": 0,
  "metadata": {
    "colab": {
      "provenance": [],
      "authorship_tag": "ABX9TyNaDgwAkllwF1xs7BeLVeCg",
      "include_colab_link": true
    },
    "kernelspec": {
      "name": "python3",
      "display_name": "Python 3"
    },
    "language_info": {
      "name": "python"
    }
  },
  "cells": [
    {
      "cell_type": "markdown",
      "metadata": {
        "id": "view-in-github",
        "colab_type": "text"
      },
      "source": [
        "<a href=\"https://colab.research.google.com/github/avivasa/pesquisa_operacional/blob/main/Exercicio-6-ProblemadoSitio.ipynb\" target=\"_parent\"><img src=\"https://colab.research.google.com/assets/colab-badge.svg\" alt=\"Open In Colab\"/></a>"
      ]
    },
    {
      "cell_type": "markdown",
      "source": [
        "# Disciplina de Pesquisa Operacional do Curso de Sistemas de Informação da UFVJM\n",
        "## Profa Luciana Pereira de Assis e Prof. Alessandro Vivas Andrade"
      ],
      "metadata": {
        "id": "bKq0ydqdgPT1"
      }
    },
    {
      "cell_type": "markdown",
      "source": [
        "# Exercício do Sitiante\n",
        "Um sitiante está planejando sua estratégia de plantio para o próximo ano. Por informações obtidas nos órgãos governamentais, sabe que as culturas de trigo, arroz e milho serão as mais rentáveis na próxima safra.\n",
        "Por experiência, sabe que a produtividade de sua terra para as culturas desejadas é a constante na tabela abaixo. Por falta de um local de armazenamento próprio, a produção máxima, em toneladas, está limitada a 60. A área cultivável do sítio é de 200.000 $m^{2}$\n",
        ". Para atender as demandas de seu próprio sítio, é imperativo que se plante\n",
        "400 $m^{2}$  de trigo, 800 $m^{2}$ de arroz e 10.000 $m^{2}$ de milho.\n",
        "\n",
        "<table>\n",
        "<tr>\n",
        "    <th> Cultura</th>\n",
        "    <th>  Produtividade em kg/$m{^2}$  </th>\n",
        "    <th> Lucro/kg de produção    </th>\n",
        "</tr>\n",
        "\n",
        "<tr>\n",
        "    <td>Trigo</td>\n",
        "    <td>0.2</td>\n",
        "    <td>10.8 centavos</td>\n",
        "</tr>\n",
        "\n",
        "<tr>\n",
        "    <td>Arroz</td>\n",
        "    <td>0.3</td>\n",
        "    <td>4.2 centavos</td>\n",
        "</tr>\n",
        "\n",
        "<tr>\n",
        "    <td>Milho</td>\n",
        "    <td>0.4</td>\n",
        "    <td>2.3 centavos</td>\n",
        "</tr>\n",
        "\n",
        "</table>\n",
        "\n",
        "\n",
        "\n",
        "\n"
      ],
      "metadata": {
        "id": "4qd4c_hWVrSU"
      }
    },
    {
      "cell_type": "markdown",
      "source": [
        "\n",
        "\n",
        "1.   Identificar as variáveis: $x_{1}, x_{2}$ e $x_{3}$ que correspondem a área plantata de trigo, arroz e milho\n",
        "2.   Restrições:\n",
        "- Não negatividade: $x{1}, x_{2}, x_{3} >= 0$\n",
        "- Restrição do Armazenamento: $0.4*x_{1}+0.3*x_{2} +0.4* x_{3} <= 60$\n",
        "- $x_{1} >= 400$\n",
        "- $x_{2} >= 800$\n",
        "- $x_{3} >= 10000$\n",
        "3. Função Objetivo: $10.8*0.2*x_{1} + 0.3*4.2*x_{2}+ 0.4*x_{3}*2.3$\n"
      ],
      "metadata": {
        "id": "P4zQv9W6XQx2"
      }
    },
    {
      "cell_type": "code",
      "source": [
        "!pip3 install ortools"
      ],
      "metadata": {
        "colab": {
          "base_uri": "https://localhost:8080/"
        },
        "id": "yWSQTKLwgfKr",
        "outputId": "7195717f-e390-4a79-d507-24044805c8bc"
      },
      "execution_count": 1,
      "outputs": [
        {
          "output_type": "stream",
          "name": "stdout",
          "text": [
            "Collecting ortools\n",
            "  Downloading ortools-9.10.4067-cp310-cp310-manylinux_2_17_x86_64.manylinux2014_x86_64.whl (26.7 MB)\n",
            "\u001b[2K     \u001b[90m━━━━━━━━━━━━━━━━━━━━━━━━━━━━━━━━━━━━━━━━\u001b[0m \u001b[32m26.7/26.7 MB\u001b[0m \u001b[31m5.4 MB/s\u001b[0m eta \u001b[36m0:00:00\u001b[0m\n",
            "\u001b[?25hCollecting absl-py>=2.0.0 (from ortools)\n",
            "  Downloading absl_py-2.1.0-py3-none-any.whl (133 kB)\n",
            "\u001b[2K     \u001b[90m━━━━━━━━━━━━━━━━━━━━━━━━━━━━━━━━━━━━━━━━\u001b[0m \u001b[32m133.7/133.7 kB\u001b[0m \u001b[31m6.0 MB/s\u001b[0m eta \u001b[36m0:00:00\u001b[0m\n",
            "\u001b[?25hRequirement already satisfied: numpy>=1.13.3 in /usr/local/lib/python3.10/dist-packages (from ortools) (1.25.2)\n",
            "Requirement already satisfied: pandas>=2.0.0 in /usr/local/lib/python3.10/dist-packages (from ortools) (2.0.3)\n",
            "Collecting protobuf>=5.26.1 (from ortools)\n",
            "  Downloading protobuf-5.26.1-cp37-abi3-manylinux2014_x86_64.whl (302 kB)\n",
            "\u001b[2K     \u001b[90m━━━━━━━━━━━━━━━━━━━━━━━━━━━━━━━━━━━━━━━━\u001b[0m \u001b[32m302.8/302.8 kB\u001b[0m \u001b[31m4.4 MB/s\u001b[0m eta \u001b[36m0:00:00\u001b[0m\n",
            "\u001b[?25hCollecting immutabledict>=3.0.0 (from ortools)\n",
            "  Downloading immutabledict-4.2.0-py3-none-any.whl (4.7 kB)\n",
            "Requirement already satisfied: python-dateutil>=2.8.2 in /usr/local/lib/python3.10/dist-packages (from pandas>=2.0.0->ortools) (2.8.2)\n",
            "Requirement already satisfied: pytz>=2020.1 in /usr/local/lib/python3.10/dist-packages (from pandas>=2.0.0->ortools) (2023.4)\n",
            "Requirement already satisfied: tzdata>=2022.1 in /usr/local/lib/python3.10/dist-packages (from pandas>=2.0.0->ortools) (2024.1)\n",
            "Requirement already satisfied: six>=1.5 in /usr/local/lib/python3.10/dist-packages (from python-dateutil>=2.8.2->pandas>=2.0.0->ortools) (1.16.0)\n",
            "Installing collected packages: protobuf, immutabledict, absl-py, ortools\n",
            "  Attempting uninstall: protobuf\n",
            "    Found existing installation: protobuf 3.20.3\n",
            "    Uninstalling protobuf-3.20.3:\n",
            "      Successfully uninstalled protobuf-3.20.3\n",
            "  Attempting uninstall: absl-py\n",
            "    Found existing installation: absl-py 1.4.0\n",
            "    Uninstalling absl-py-1.4.0:\n",
            "      Successfully uninstalled absl-py-1.4.0\n",
            "\u001b[31mERROR: pip's dependency resolver does not currently take into account all the packages that are installed. This behaviour is the source of the following dependency conflicts.\n",
            "cudf-cu12 24.4.1 requires protobuf<5,>=3.20, but you have protobuf 5.26.1 which is incompatible.\n",
            "google-ai-generativelanguage 0.6.4 requires protobuf!=3.20.0,!=3.20.1,!=4.21.0,!=4.21.1,!=4.21.2,!=4.21.3,!=4.21.4,!=4.21.5,<5.0.0dev,>=3.19.5, but you have protobuf 5.26.1 which is incompatible.\n",
            "google-api-core 2.11.1 requires protobuf!=3.20.0,!=3.20.1,!=4.21.0,!=4.21.1,!=4.21.2,!=4.21.3,!=4.21.4,!=4.21.5,<5.0.0.dev0,>=3.19.5, but you have protobuf 5.26.1 which is incompatible.\n",
            "google-cloud-aiplatform 1.51.0 requires protobuf!=3.20.0,!=3.20.1,!=4.21.0,!=4.21.1,!=4.21.2,!=4.21.3,!=4.21.4,!=4.21.5,<5.0.0dev,>=3.19.5, but you have protobuf 5.26.1 which is incompatible.\n",
            "google-cloud-bigquery-connection 1.12.1 requires protobuf!=3.20.0,!=3.20.1,!=4.21.0,!=4.21.1,!=4.21.2,!=4.21.3,!=4.21.4,!=4.21.5,<5.0.0dev,>=3.19.5, but you have protobuf 5.26.1 which is incompatible.\n",
            "google-cloud-bigquery-storage 2.25.0 requires protobuf!=3.20.0,!=3.20.1,!=4.21.0,!=4.21.1,!=4.21.2,!=4.21.3,!=4.21.4,!=4.21.5,<5.0.0dev,>=3.19.5, but you have protobuf 5.26.1 which is incompatible.\n",
            "google-cloud-datastore 2.15.2 requires protobuf!=3.20.0,!=3.20.1,!=4.21.0,!=4.21.1,!=4.21.2,!=4.21.3,!=4.21.4,!=4.21.5,<5.0.0dev,>=3.19.5, but you have protobuf 5.26.1 which is incompatible.\n",
            "google-cloud-firestore 2.11.1 requires protobuf!=3.20.0,!=3.20.1,!=4.21.0,!=4.21.1,!=4.21.2,!=4.21.3,!=4.21.4,!=4.21.5,<5.0.0dev,>=3.19.5, but you have protobuf 5.26.1 which is incompatible.\n",
            "google-cloud-functions 1.13.3 requires protobuf!=3.20.0,!=3.20.1,!=4.21.0,!=4.21.1,!=4.21.2,!=4.21.3,!=4.21.4,!=4.21.5,<5.0.0dev,>=3.19.5, but you have protobuf 5.26.1 which is incompatible.\n",
            "google-cloud-iam 2.15.0 requires protobuf!=3.20.0,!=3.20.1,!=4.21.0,!=4.21.1,!=4.21.2,!=4.21.3,!=4.21.4,!=4.21.5,<5.0.0dev,>=3.19.5, but you have protobuf 5.26.1 which is incompatible.\n",
            "google-cloud-language 2.13.3 requires protobuf!=3.20.0,!=3.20.1,!=4.21.0,!=4.21.1,!=4.21.2,!=4.21.3,!=4.21.4,!=4.21.5,<5.0.0dev,>=3.19.5, but you have protobuf 5.26.1 which is incompatible.\n",
            "google-cloud-resource-manager 1.12.3 requires protobuf!=3.20.0,!=3.20.1,!=4.21.0,!=4.21.1,!=4.21.2,!=4.21.3,!=4.21.4,!=4.21.5,<5.0.0dev,>=3.19.5, but you have protobuf 5.26.1 which is incompatible.\n",
            "google-cloud-translate 3.11.3 requires protobuf!=3.20.0,!=3.20.1,!=4.21.0,!=4.21.1,!=4.21.2,!=4.21.3,!=4.21.4,!=4.21.5,<5.0.0dev,>=3.19.5, but you have protobuf 5.26.1 which is incompatible.\n",
            "googleapis-common-protos 1.63.0 requires protobuf!=3.20.0,!=3.20.1,!=4.21.1,!=4.21.2,!=4.21.3,!=4.21.4,!=4.21.5,<5.0.0.dev0,>=3.19.5, but you have protobuf 5.26.1 which is incompatible.\n",
            "grpc-google-iam-v1 0.13.0 requires protobuf!=3.20.0,!=3.20.1,!=4.21.1,!=4.21.2,!=4.21.3,!=4.21.4,!=4.21.5,<5.0.0dev,>=3.19.5, but you have protobuf 5.26.1 which is incompatible.\n",
            "proto-plus 1.23.0 requires protobuf<5.0.0dev,>=3.19.0, but you have protobuf 5.26.1 which is incompatible.\n",
            "tensorflow 2.15.0 requires protobuf!=4.21.0,!=4.21.1,!=4.21.2,!=4.21.3,!=4.21.4,!=4.21.5,<5.0.0dev,>=3.20.3, but you have protobuf 5.26.1 which is incompatible.\n",
            "tensorflow-metadata 1.15.0 requires protobuf<4.21,>=3.20.3; python_version < \"3.11\", but you have protobuf 5.26.1 which is incompatible.\u001b[0m\u001b[31m\n",
            "\u001b[0mSuccessfully installed absl-py-2.1.0 immutabledict-4.2.0 ortools-9.10.4067 protobuf-5.26.1\n"
          ]
        }
      ]
    },
    {
      "cell_type": "code",
      "source": [
        "from ortools.linear_solver import pywraplp\n",
        "\n",
        "\n",
        "def Exemplo1():\n",
        "    \"\"\"Linear programming sample.\"\"\"\n",
        "\n",
        "    # Instancie o GLOP solver\n",
        "    solver = pywraplp.Solver.CreateSolver(\"GLOP\")\n",
        "    if not solver:\n",
        "        return\n",
        "\n",
        "    # crie o exemplo com três varíaveis e valores não negativos\n",
        "    x1 = solver.NumVar(0, solver.infinity(), \"x1\")\n",
        "    x2 = solver.NumVar(0, solver.infinity(), \"x2\")\n",
        "    x3 = solver.NumVar(0, solver.infinity(), \"x3\")\n",
        "\n",
        "\n",
        "    print(\"Número de variáveis =\", solver.NumVariables())\n",
        "\n",
        "    # Restrição 1:\n",
        "    solver.Add(x1 >= 400)\n",
        "\n",
        "    # Restrição 2:\n",
        "    solver.Add(x2>=800)\n",
        "\n",
        "    # Restrição 3:\n",
        "    solver.Add(x3 >= 10000)\n",
        "\n",
        "    solver.Add(x1+x2+x3 <= 200000)\n",
        "\n",
        "\n",
        "    print(\"Número de Restrições =\", solver.NumConstraints())\n",
        "\n",
        "    # Função Objetivo: 3x + 5y.\n",
        "    solver.Maximize(10.8*0.2*x1 + 0.3*4.2*x2+ 0.4*x3*2.3)\n",
        "\n",
        "    # Resolve o Sistema\n",
        "    status = solver.Solve()\n",
        "\n",
        "    if status == pywraplp.Solver.OPTIMAL:\n",
        "        print(\"Solução:\")\n",
        "        print(\"Valor  =\", solver.Objective().Value())\n",
        "        print(\"x1 =\", x1.solution_value())\n",
        "        print(\"x2 =\", x2.solution_value())\n",
        "        print(\"x3 =\", x3.solution_value())\n",
        "\n",
        "    else:\n",
        "        print(\"The problem does not have an optimal solution.\")\n",
        "\n",
        "    print(\"\\nAdvanced usage:\")\n",
        "    print(\"Problem solved in %f milliseconds\" % solver.wall_time())\n",
        "    print(\"Problem solved in %d iterations\" % solver.iterations())\n",
        "\n",
        "\n",
        "Exemplo1()"
      ],
      "metadata": {
        "colab": {
          "base_uri": "https://localhost:8080/"
        },
        "id": "jzHdjcROBT4G",
        "outputId": "5e19ad5d-1c03-47a7-8cc3-e032873fd713"
      },
      "execution_count": 2,
      "outputs": [
        {
          "output_type": "stream",
          "name": "stdout",
          "text": [
            "Número de variáveis = 3\n",
            "Número de Restrições = 4\n",
            "Solução:\n",
            "Valor  = 418880.0\n",
            "x1 = 189200.0\n",
            "x2 = 800.0\n",
            "x3 = 10000.0\n",
            "\n",
            "Advanced usage:\n",
            "Problem solved in 11.000000 milliseconds\n",
            "Problem solved in 0 iterations\n"
          ]
        }
      ]
    }
  ]
}