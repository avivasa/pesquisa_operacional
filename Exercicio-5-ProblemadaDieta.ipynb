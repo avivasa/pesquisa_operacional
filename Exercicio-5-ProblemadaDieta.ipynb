{
  "nbformat": 4,
  "nbformat_minor": 0,
  "metadata": {
    "colab": {
      "provenance": [],
      "authorship_tag": "ABX9TyOksl9Z7SC8qkKGMXA1AU+T",
      "include_colab_link": true
    },
    "kernelspec": {
      "name": "python3",
      "display_name": "Python 3"
    },
    "language_info": {
      "name": "python"
    }
  },
  "cells": [
    {
      "cell_type": "markdown",
      "metadata": {
        "id": "view-in-github",
        "colab_type": "text"
      },
      "source": [
        "<a href=\"https://colab.research.google.com/github/avivasa/pesquisa_operacional/blob/main/Exercicio-5-ProblemadaDieta.ipynb\" target=\"_parent\"><img src=\"https://colab.research.google.com/assets/colab-badge.svg\" alt=\"Open In Colab\"/></a>"
      ]
    },
    {
      "cell_type": "markdown",
      "source": [
        "## Disciplina de Pesquisa Operacional do Curso de Sistemas de Informação da UFVJM\n",
        "### Profa. Luciana Pereira de Assis e Prof. Alessandro Vivas Andrade"
      ],
      "metadata": {
        "id": "IyeU7t22fztr"
      }
    },
    {
      "cell_type": "markdown",
      "source": [
        "# Problema da Dieta\n",
        "Um nutricionista precisa estabelecer uma dieta contendo, pelo menos, 10\n",
        "unidades de vitamina A, 30 de vitamina B e 18 de vitamina C. Estas vitaminas\n",
        "estão contidas em quantidades variadas em 5 alimentos, denominados s1, s2, s3,\n",
        "s4 e s5. O quadro seguinte dá o número de unidades das vitaminas A, B, C em\n",
        "cada unidade destes 5 alimentos, bem como o seu custo, em reais, por unidade.\n",
        "Calcular as quantidades dos 5 alimentos que devem estar incluídas na dieta\n",
        "diária, a fim de encontrarmos os teores de vitamina com o menor custo.\n",
        "<table>\n",
        "<tr>\n",
        "    <th>Alimentos/Vitaminas</th>\n",
        "    <th>  S1  </th>\n",
        "    <th>  S2  </th>\n",
        "    <th>  S3  </th>\n",
        "    <th>  S4  </th>\n",
        "    <th>  S5  </th>  \n",
        "</tr>\n",
        "\n",
        "<tr>\n",
        "    <td>A</td>\n",
        "    <td>0</td>\n",
        "    <td>1</td>\n",
        "    <td>5</td>\n",
        "    <td>4</td>\n",
        "    <td>3</td>\n",
        "</tr>\n",
        "\n",
        "<tr>\n",
        "    <td>B</td>\n",
        "    <td>2</td>\n",
        "    <td>1</td>\n",
        "    <td>0</td>\n",
        "    <td>3</td>\n",
        "    <td>2</td>\n",
        "</tr>\n",
        "\n",
        "<tr>\n",
        "    <td>C</td>\n",
        "    <td>3</td>\n",
        "    <td>1</td>\n",
        "    <td>0</td>\n",
        "    <td>9</td>\n",
        "    <td>0</td>\n",
        "</tr>\n",
        "\n",
        "<tr>\n",
        "    <td>Custo</td>\n",
        "    <td>4</td>\n",
        "    <td>2</td>\n",
        "    <td>1</td>\n",
        "    <td>10</td>\n",
        "    <td>5</td>\n",
        "</tr>\n",
        "</table>\n",
        "\n"
      ],
      "metadata": {
        "id": "fZv-1bt1QuTH"
      }
    },
    {
      "cell_type": "markdown",
      "source": [
        "# Modelo Matemático\n",
        "1. Variáveis: x1, x2, x3, x4, x5\n",
        "\n",
        "2. Restrições:\n",
        "- a. 10 unidades de vitamina A: $0*x_{1}+1*x_{2}+5*x_{3}+4*x_{4}+3*x_{5} >= 10$\n",
        "- b. 30 unidades de vitamina B: $2*x_{1}+1*x_{2}+0*x_{3}+2*x_{4}+2*x_{5} >= 30$\n",
        "- b. 18 unidades de vitamina C: $3*x_{1}+1*x_{2}+0*x_{3}+9*x_{4}+0*x_{5} >= 18$\n",
        "\n",
        "3. Função Objetivo:\n",
        "$F=4*x_{1}+2*x_{2}+1*x_{3}+10*x_{4}+5*x_{5} $\n",
        "\n",
        "4. Problema de Minimização"
      ],
      "metadata": {
        "id": "N7pIA2pMSTKg"
      }
    },
    {
      "cell_type": "code",
      "source": [
        "!pip3 install ortools"
      ],
      "metadata": {
        "colab": {
          "base_uri": "https://localhost:8080/"
        },
        "id": "zCPw0A1apmxp",
        "outputId": "34fb1b3c-0214-4351-d52c-721e401b5bc4"
      },
      "execution_count": null,
      "outputs": [
        {
          "output_type": "stream",
          "name": "stdout",
          "text": [
            "Collecting ortools\n",
            "  Downloading ortools-9.7.2996-cp310-cp310-manylinux_2_17_x86_64.manylinux2014_x86_64.whl (21.1 MB)\n",
            "\u001b[2K     \u001b[90m━━━━━━━━━━━━━━━━━━━━━━━━━━━━━━━━━━━━━━━━\u001b[0m \u001b[32m21.1/21.1 MB\u001b[0m \u001b[31m45.4 MB/s\u001b[0m eta \u001b[36m0:00:00\u001b[0m\n",
            "\u001b[?25hRequirement already satisfied: absl-py>=0.13 in /usr/local/lib/python3.10/dist-packages (from ortools) (1.4.0)\n",
            "Requirement already satisfied: numpy>=1.13.3 in /usr/local/lib/python3.10/dist-packages (from ortools) (1.23.5)\n",
            "Collecting protobuf>=4.23.3 (from ortools)\n",
            "  Downloading protobuf-4.24.3-cp37-abi3-manylinux2014_x86_64.whl (311 kB)\n",
            "\u001b[2K     \u001b[90m━━━━━━━━━━━━━━━━━━━━━━━━━━━━━━━━━━━━━━\u001b[0m \u001b[32m311.6/311.6 kB\u001b[0m \u001b[31m20.7 MB/s\u001b[0m eta \u001b[36m0:00:00\u001b[0m\n",
            "\u001b[?25hInstalling collected packages: protobuf, ortools\n",
            "  Attempting uninstall: protobuf\n",
            "    Found existing installation: protobuf 3.20.3\n",
            "    Uninstalling protobuf-3.20.3:\n",
            "      Successfully uninstalled protobuf-3.20.3\n",
            "\u001b[31mERROR: pip's dependency resolver does not currently take into account all the packages that are installed. This behaviour is the source of the following dependency conflicts.\n",
            "tensorflow-metadata 1.14.0 requires protobuf<4.21,>=3.20.3, but you have protobuf 4.24.3 which is incompatible.\u001b[0m\u001b[31m\n",
            "\u001b[0mSuccessfully installed ortools-9.7.2996 protobuf-4.24.3\n"
          ]
        }
      ]
    },
    {
      "cell_type": "code",
      "execution_count": null,
      "metadata": {
        "colab": {
          "base_uri": "https://localhost:8080/"
        },
        "id": "CqUasFjTQPhk",
        "outputId": "de9ad37b-5f0a-48c2-ce38-b3e471a05795"
      },
      "outputs": [
        {
          "output_type": "stream",
          "name": "stdout",
          "text": [
            "Número de variáveis = 5\n",
            "Número de Restrições = 3\n",
            "Solução:\n",
            "Valor  = 59.999999999999986\n",
            "x1 = 9.999999999999996\n",
            "x2 = 10.0\n",
            "x3 = 0.0\n",
            "x4 = 0.0\n",
            "x5 = 0.0\n",
            "\n",
            "Advanced usage:\n",
            "Problem solved in 9.000000 milliseconds\n",
            "Problem solved in 2 iterations\n"
          ]
        }
      ],
      "source": [
        "from ortools.linear_solver import pywraplp\n",
        "\n",
        "\n",
        "def Exemplo1():\n",
        "    \"\"\"Linear programming sample.\"\"\"\n",
        "\n",
        "    # Instancie o GLOP solver\n",
        "    solver = pywraplp.Solver.CreateSolver(\"GLOP\")\n",
        "    if not solver:\n",
        "        return\n",
        "\n",
        "    # crie o exemplo com duas varíaveis e valores não negativos\n",
        "    x1 = solver.NumVar(0, solver.infinity(), \"x1\")\n",
        "    x2 = solver.NumVar(0, solver.infinity(), \"x2\")\n",
        "    x3 = solver.NumVar(0, solver.infinity(), \"x3\")\n",
        "    x4 = solver.NumVar(0, solver.infinity(), \"x4\")\n",
        "    x5 = solver.NumVar(0, solver.infinity(), \"x5\")\n",
        "\n",
        "    print(\"Número de variáveis =\", solver.NumVariables())\n",
        "\n",
        "    # Restrição 1: x <= 4000\n",
        "    solver.Add(0*x1+1*x2+5*x3+4*x4+3*x5 >= 10)\n",
        "\n",
        "    # Restrição 2: 2*y <= 12000\n",
        "    solver.Add(2*x1+1*x2+0*x3+3*x4+2*x5 >= 30)\n",
        "\n",
        "    # Restrição 3: 3x + 2y <= 18.0000\n",
        "    solver.Add(3*x1+1*x2+0*x3+9*x4+0*x5>=18)\n",
        "\n",
        "    print(\"Número de Restrições =\", solver.NumConstraints())\n",
        "\n",
        "    # Função Objetivo: 3x + 5y.\n",
        "    solver.Minimize(4*x1+2*x2+x3+10*x4+5*x5)\n",
        "\n",
        "    # Resolve o Sistema\n",
        "    status = solver.Solve()\n",
        "\n",
        "    if status == pywraplp.Solver.OPTIMAL:\n",
        "        print(\"Solução:\")\n",
        "        print(\"Valor  =\", solver.Objective().Value())\n",
        "        print(\"x1 =\", x1.solution_value())\n",
        "        print(\"x2 =\", x2.solution_value())\n",
        "        print(\"x3 =\", x3.solution_value())\n",
        "        print(\"x4 =\", x4.solution_value())\n",
        "        print(\"x5 =\", x5.solution_value())\n",
        "    else:\n",
        "        print(\"The problem does not have an optimal solution.\")\n",
        "\n",
        "    print(\"\\nAdvanced usage:\")\n",
        "    print(\"Problem solved in %f milliseconds\" % solver.wall_time())\n",
        "    print(\"Problem solved in %d iterations\" % solver.iterations())\n",
        "\n",
        "\n",
        "Exemplo1()"
      ]
    },
    {
      "cell_type": "markdown",
      "source": [],
      "metadata": {
        "id": "M3Fs8k78QRSa"
      }
    }
  ]
}