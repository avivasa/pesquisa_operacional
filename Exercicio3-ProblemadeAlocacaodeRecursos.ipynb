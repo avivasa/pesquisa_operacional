{
  "nbformat": 4,
  "nbformat_minor": 0,
  "metadata": {
    "colab": {
      "provenance": [],
      "authorship_tag": "ABX9TyN6R6rWF3+mJT+5Uhy5ARW6",
      "include_colab_link": true
    },
    "kernelspec": {
      "name": "python3",
      "display_name": "Python 3"
    },
    "language_info": {
      "name": "python"
    }
  },
  "cells": [
    {
      "cell_type": "markdown",
      "metadata": {
        "id": "view-in-github",
        "colab_type": "text"
      },
      "source": [
        "<a href=\"https://colab.research.google.com/github/avivasa/pesquisa_operacional/blob/main/Exercicio3-ProblemadeAlocacaodeRecursos.ipynb\" target=\"_parent\"><img src=\"https://colab.research.google.com/assets/colab-badge.svg\" alt=\"Open In Colab\"/></a>"
      ]
    },
    {
      "cell_type": "markdown",
      "source": [
        "# Disciplina de Pesquisa Operacional do Curso de Sistemas de Informação da UFVJM\n",
        "## Profa. Luciana Pereira de Assis e Prof. Alessandro Vivas Andrade\n"
      ],
      "metadata": {
        "id": "2IomABAmbcvh"
      }
    },
    {
      "cell_type": "markdown",
      "source": [
        "# Exercício 3: Problemas de Alocação de Recursos\n",
        "No programa de produção para o próximo período, uma empresa poderá produzir 3 tipos de produtos:\n",
        "P1, P2 e P3. O quadro abaixo mostra os montantes demandados (em unidades) na produção.\n",
        "\n",
        "\n",
        "<table>\n",
        "<tr>\n",
        "    <th> Produto</th>\n",
        "    <th>  Contribuição (Lucro por Unidade) </th>\n",
        "    <th>   Horas de trabalho  </th>\n",
        "    <th>  Horas de uso de máquina </th>\n",
        "    <th>  Demanda máxima </th>\n",
        "</tr>\n",
        "\n",
        "<tr>\n",
        "    <td>P1</td>\n",
        "    <td>2100</td>\n",
        "    <td>6</td>\n",
        "    <td>12</td>\n",
        "    <td>800</td>\n",
        "</tr>\n",
        "\n",
        "<tr>\n",
        "    <td>P2</td>\n",
        "    <td>1200</td>\n",
        "    <td>4</td>\n",
        "    <td>6</td>\n",
        "    <td>600</td>\n",
        "\n",
        "</tr>\n",
        "\n",
        "<tr>\n",
        "    <td>P3</td>\n",
        "    <td>600</td>\n",
        "    <td>6</td>\n",
        "    <td>2</td>\n",
        "    <td>600</td>\n",
        "</tr>\n",
        "</table>\n",
        "A empresa dispõe de 4800 horas de trabalho para o período; considerando o usos de três máquinas terá\n",
        "a disposição 7200 horas de horas de uso de máquina. Construa o modelo matemático com o objetivo de maximizar o lucro."
      ],
      "metadata": {
        "id": "L_2Uulv4bepj"
      }
    },
    {
      "cell_type": "markdown",
      "source": [
        "# Variáveis de Decisão:\n",
        "\n",
        "- x1: quantidade de unidades do produto P1 a ser produzida\n",
        "- x2​: quantidade de unidades do produto P2 a ser produzida\n",
        "- x3​: quantidade de unidades do produto P3 a ser produzida\n",
        "\n",
        "Maximizar o lucro total, que é a soma dos lucros individuais de cada produto:\n",
        "- Z=$2100*x_{1}+1200*x_{2}+600*x_{3}$\n",
        "\n",
        "Restrições:\n",
        "\n",
        "- Restrição de horas de trabalho: A quantidade total de horas de trabalho não pode exceder 4800 horas:\n",
        "  - $6*x_{1}+4*x_{2}+6*x_{3}≤4800$\n",
        "\n",
        "- Restrição de horas de uso de máquina: A quantidade total de horas de uso de máquina não pode exceder 7200 horas.\n",
        "  - $12*x_{1}+6*x_{2}+2*x_{3}≤7200$\n",
        "\n",
        "Demanda máxima de cada produto:\n",
        "- $x_{1}≤800$\n",
        "- $x_{2}≤600$\n",
        "- $x_{3}≤600$\n"
      ],
      "metadata": {
        "id": "v03QmdbPbifZ"
      }
    },
    {
      "cell_type": "code",
      "source": [
        "!pip3 install ortools"
      ],
      "metadata": {
        "colab": {
          "base_uri": "https://localhost:8080/"
        },
        "id": "Lt88iCGVboi8",
        "outputId": "eec11084-1223-4193-a61f-ffa2ed5eb5ad"
      },
      "execution_count": 4,
      "outputs": [
        {
          "output_type": "stream",
          "name": "stdout",
          "text": [
            "Collecting ortools\n",
            "  Downloading ortools-9.10.4067-cp310-cp310-manylinux_2_17_x86_64.manylinux2014_x86_64.whl (26.7 MB)\n",
            "\u001b[2K     \u001b[90m━━━━━━━━━━━━━━━━━━━━━━━━━━━━━━━━━━━━━━━━\u001b[0m \u001b[32m26.7/26.7 MB\u001b[0m \u001b[31m47.3 MB/s\u001b[0m eta \u001b[36m0:00:00\u001b[0m\n",
            "\u001b[?25hCollecting absl-py>=2.0.0 (from ortools)\n",
            "  Downloading absl_py-2.1.0-py3-none-any.whl (133 kB)\n",
            "\u001b[2K     \u001b[90m━━━━━━━━━━━━━━━━━━━━━━━━━━━━━━━━━━━━━━━━\u001b[0m \u001b[32m133.7/133.7 kB\u001b[0m \u001b[31m21.6 MB/s\u001b[0m eta \u001b[36m0:00:00\u001b[0m\n",
            "\u001b[?25hRequirement already satisfied: numpy>=1.13.3 in /usr/local/lib/python3.10/dist-packages (from ortools) (1.25.2)\n",
            "Requirement already satisfied: pandas>=2.0.0 in /usr/local/lib/python3.10/dist-packages (from ortools) (2.0.3)\n",
            "Collecting protobuf>=5.26.1 (from ortools)\n",
            "  Downloading protobuf-5.26.1-cp37-abi3-manylinux2014_x86_64.whl (302 kB)\n",
            "\u001b[2K     \u001b[90m━━━━━━━━━━━━━━━━━━━━━━━━━━━━━━━━━━━━━━━━\u001b[0m \u001b[32m302.8/302.8 kB\u001b[0m \u001b[31m44.4 MB/s\u001b[0m eta \u001b[36m0:00:00\u001b[0m\n",
            "\u001b[?25hCollecting immutabledict>=3.0.0 (from ortools)\n",
            "  Downloading immutabledict-4.2.0-py3-none-any.whl (4.7 kB)\n",
            "Requirement already satisfied: python-dateutil>=2.8.2 in /usr/local/lib/python3.10/dist-packages (from pandas>=2.0.0->ortools) (2.8.2)\n",
            "Requirement already satisfied: pytz>=2020.1 in /usr/local/lib/python3.10/dist-packages (from pandas>=2.0.0->ortools) (2023.4)\n",
            "Requirement already satisfied: tzdata>=2022.1 in /usr/local/lib/python3.10/dist-packages (from pandas>=2.0.0->ortools) (2024.1)\n",
            "Requirement already satisfied: six>=1.5 in /usr/local/lib/python3.10/dist-packages (from python-dateutil>=2.8.2->pandas>=2.0.0->ortools) (1.16.0)\n",
            "Installing collected packages: protobuf, immutabledict, absl-py, ortools\n",
            "  Attempting uninstall: protobuf\n",
            "    Found existing installation: protobuf 3.20.3\n",
            "    Uninstalling protobuf-3.20.3:\n",
            "      Successfully uninstalled protobuf-3.20.3\n",
            "  Attempting uninstall: absl-py\n",
            "    Found existing installation: absl-py 1.4.0\n",
            "    Uninstalling absl-py-1.4.0:\n",
            "      Successfully uninstalled absl-py-1.4.0\n",
            "\u001b[31mERROR: pip's dependency resolver does not currently take into account all the packages that are installed. This behaviour is the source of the following dependency conflicts.\n",
            "cudf-cu12 24.4.1 requires protobuf<5,>=3.20, but you have protobuf 5.26.1 which is incompatible.\n",
            "google-ai-generativelanguage 0.6.4 requires protobuf!=3.20.0,!=3.20.1,!=4.21.0,!=4.21.1,!=4.21.2,!=4.21.3,!=4.21.4,!=4.21.5,<5.0.0dev,>=3.19.5, but you have protobuf 5.26.1 which is incompatible.\n",
            "google-api-core 2.11.1 requires protobuf!=3.20.0,!=3.20.1,!=4.21.0,!=4.21.1,!=4.21.2,!=4.21.3,!=4.21.4,!=4.21.5,<5.0.0.dev0,>=3.19.5, but you have protobuf 5.26.1 which is incompatible.\n",
            "google-cloud-aiplatform 1.51.0 requires protobuf!=3.20.0,!=3.20.1,!=4.21.0,!=4.21.1,!=4.21.2,!=4.21.3,!=4.21.4,!=4.21.5,<5.0.0dev,>=3.19.5, but you have protobuf 5.26.1 which is incompatible.\n",
            "google-cloud-bigquery-connection 1.12.1 requires protobuf!=3.20.0,!=3.20.1,!=4.21.0,!=4.21.1,!=4.21.2,!=4.21.3,!=4.21.4,!=4.21.5,<5.0.0dev,>=3.19.5, but you have protobuf 5.26.1 which is incompatible.\n",
            "google-cloud-bigquery-storage 2.25.0 requires protobuf!=3.20.0,!=3.20.1,!=4.21.0,!=4.21.1,!=4.21.2,!=4.21.3,!=4.21.4,!=4.21.5,<5.0.0dev,>=3.19.5, but you have protobuf 5.26.1 which is incompatible.\n",
            "google-cloud-datastore 2.15.2 requires protobuf!=3.20.0,!=3.20.1,!=4.21.0,!=4.21.1,!=4.21.2,!=4.21.3,!=4.21.4,!=4.21.5,<5.0.0dev,>=3.19.5, but you have protobuf 5.26.1 which is incompatible.\n",
            "google-cloud-firestore 2.11.1 requires protobuf!=3.20.0,!=3.20.1,!=4.21.0,!=4.21.1,!=4.21.2,!=4.21.3,!=4.21.4,!=4.21.5,<5.0.0dev,>=3.19.5, but you have protobuf 5.26.1 which is incompatible.\n",
            "google-cloud-functions 1.13.3 requires protobuf!=3.20.0,!=3.20.1,!=4.21.0,!=4.21.1,!=4.21.2,!=4.21.3,!=4.21.4,!=4.21.5,<5.0.0dev,>=3.19.5, but you have protobuf 5.26.1 which is incompatible.\n",
            "google-cloud-iam 2.15.0 requires protobuf!=3.20.0,!=3.20.1,!=4.21.0,!=4.21.1,!=4.21.2,!=4.21.3,!=4.21.4,!=4.21.5,<5.0.0dev,>=3.19.5, but you have protobuf 5.26.1 which is incompatible.\n",
            "google-cloud-language 2.13.3 requires protobuf!=3.20.0,!=3.20.1,!=4.21.0,!=4.21.1,!=4.21.2,!=4.21.3,!=4.21.4,!=4.21.5,<5.0.0dev,>=3.19.5, but you have protobuf 5.26.1 which is incompatible.\n",
            "google-cloud-resource-manager 1.12.3 requires protobuf!=3.20.0,!=3.20.1,!=4.21.0,!=4.21.1,!=4.21.2,!=4.21.3,!=4.21.4,!=4.21.5,<5.0.0dev,>=3.19.5, but you have protobuf 5.26.1 which is incompatible.\n",
            "google-cloud-translate 3.11.3 requires protobuf!=3.20.0,!=3.20.1,!=4.21.0,!=4.21.1,!=4.21.2,!=4.21.3,!=4.21.4,!=4.21.5,<5.0.0dev,>=3.19.5, but you have protobuf 5.26.1 which is incompatible.\n",
            "googleapis-common-protos 1.63.0 requires protobuf!=3.20.0,!=3.20.1,!=4.21.1,!=4.21.2,!=4.21.3,!=4.21.4,!=4.21.5,<5.0.0.dev0,>=3.19.5, but you have protobuf 5.26.1 which is incompatible.\n",
            "grpc-google-iam-v1 0.13.0 requires protobuf!=3.20.0,!=3.20.1,!=4.21.1,!=4.21.2,!=4.21.3,!=4.21.4,!=4.21.5,<5.0.0dev,>=3.19.5, but you have protobuf 5.26.1 which is incompatible.\n",
            "proto-plus 1.23.0 requires protobuf<5.0.0dev,>=3.19.0, but you have protobuf 5.26.1 which is incompatible.\n",
            "tensorflow 2.15.0 requires protobuf!=4.21.0,!=4.21.1,!=4.21.2,!=4.21.3,!=4.21.4,!=4.21.5,<5.0.0dev,>=3.20.3, but you have protobuf 5.26.1 which is incompatible.\n",
            "tensorflow-metadata 1.15.0 requires protobuf<4.21,>=3.20.3; python_version < \"3.11\", but you have protobuf 5.26.1 which is incompatible.\u001b[0m\u001b[31m\n",
            "\u001b[0mSuccessfully installed absl-py-2.1.0 immutabledict-4.2.0 ortools-9.10.4067 protobuf-5.26.1\n"
          ]
        }
      ]
    },
    {
      "cell_type": "code",
      "execution_count": 5,
      "metadata": {
        "colab": {
          "base_uri": "https://localhost:8080/"
        },
        "id": "ETR7swUwbYiR",
        "outputId": "837974d8-a0cf-42ae-fe27-037134b938d1"
      },
      "outputs": [
        {
          "output_type": "stream",
          "name": "stdout",
          "text": [
            "Solução encontrada:\n",
            "Quantidade de unidades do produto P1: 279.99999999999994\n",
            "Quantidade de unidades do produto P2: 600.0\n",
            "Quantidade de unidades do produto P3: 120.0\n",
            "Lucro total: $ 1380000.0\n"
          ]
        }
      ],
      "source": [
        "from ortools.linear_solver import pywraplp\n",
        "\n",
        "def main():\n",
        "    # Inicializa o modelo\n",
        "    solver = pywraplp.Solver.CreateSolver(\"GLOP\")\n",
        "\n",
        "\n",
        "    # Define as variáveis de decisão\n",
        "    x1 = solver.IntVar(0, 800, 'x1')  # Quantidade de unidades do produto P1\n",
        "    x2 = solver.IntVar(0, 600, 'x2')  # Quantidade de unidades do produto P2\n",
        "    x3 = solver.IntVar(0, 600, 'x3')  # Quantidade de unidades do produto P3\n",
        "\n",
        "    # Define a função objetivo\n",
        "    solver.Maximize(2100 * x1 + 1200 * x2 + 600 * x3)\n",
        "\n",
        "    # Adiciona as restrições\n",
        "    solver.Add(6 * x1 + 4 * x2 + 6 * x3 <= 4800)  # Restrição de horas de trabalho\n",
        "    solver.Add(12 * x1 + 6 * x2 + 2 * x3 <= 7200)  # Restrição de horas de uso de máquina\n",
        "\n",
        "    # Cria o solver\n",
        "    status = solver.Solve()\n",
        "\n",
        "    # Verifica se encontrou a solução ótima\n",
        "    if status == pywraplp.Solver.OPTIMAL:\n",
        "        print('Solução encontrada:')\n",
        "        print('Quantidade de unidades do produto P1:', x1.solution_value())\n",
        "        print('Quantidade de unidades do produto P2:', x2.solution_value())\n",
        "        print('Quantidade de unidades do produto P3:', x3.solution_value())\n",
        "        print('Lucro total: $', solver.Objective().Value())\n",
        "    else:\n",
        "        print('O problema não possui solução ótima.')\n",
        "\n",
        "if __name__ == '__main__':\n",
        "    main()\n"
      ]
    }
  ]
}