{
  "nbformat": 4,
  "nbformat_minor": 0,
  "metadata": {
    "colab": {
      "provenance": [],
      "authorship_tag": "ABX9TyN4/Ci9AuO+g5bX+Cw0fOth",
      "include_colab_link": true
    },
    "kernelspec": {
      "name": "python3",
      "display_name": "Python 3"
    },
    "language_info": {
      "name": "python"
    }
  },
  "cells": [
    {
      "cell_type": "markdown",
      "metadata": {
        "id": "view-in-github",
        "colab_type": "text"
      },
      "source": [
        "<a href=\"https://colab.research.google.com/github/avivasa/pesquisa_operacional/blob/main/Exercicio-4-ExemplodeSomatorio.ipynb\" target=\"_parent\"><img src=\"https://colab.research.google.com/assets/colab-badge.svg\" alt=\"Open In Colab\"/></a>"
      ]
    },
    {
      "cell_type": "markdown",
      "source": [
        "# Disciplina de Pesquisa Operacional do Curso de Sistemas de Informação da UFVJM\n",
        "## Profa. Luciana Pereira de Assis e Prof. Alessandro Vivas Andrade\n"
      ],
      "metadata": {
        "id": "pW04QoZrdT5m"
      }
    },
    {
      "cell_type": "markdown",
      "source": [
        "# Exercício 4:\n",
        "Considere uma empresa que produz diferentes tipos de produtos. Cada produto tem custo de produção e de venda específico. A empresa tem uma capacidade de produção limitada para cada tipo de produto e quer determinar a quantidade ótima de produção para cada tipo de produto para maximizar o lucro.\n",
        "Modelo Matemático:\n",
        "\n",
        "Seja:\n",
        "\n",
        "  - $x_{i}$​ quantidade de produção do produto  i\n",
        "  - $c_{i}$​ custo de produção do produto i\n",
        "  - $p_{i​}$ preço de produção do produto i\n",
        "  - $C$ total capacidade de produção\n",
        "\n",
        "Função Objetivo\n",
        "Maximização do Lucro\n",
        "$$\n",
        "\\text{Lucro} = \\sum_{i=1}^{n} p_i x_i - \\sum_{i=1}^{n} c_i x_i\n",
        "$$\n",
        "\n",
        "Restrições:\n",
        "\n",
        "    A quantidade de produção de cada produto não pode excededr a capacidade disponível.\n",
        "$$\n",
        "x_i \\leq C \\quad \\forall i \\in {1, 2, ..., n}\n",
        "$$\n",
        "\n",
        "    A produção não pode ser negativa:\n",
        "\n",
        "$$\n",
        "x_i \\geq 0 \\quad \\forall i \\in {1, 2, ..., n}\n",
        "$$"
      ],
      "metadata": {
        "id": "4pDp8Su2dbx8"
      }
    },
    {
      "cell_type": "code",
      "source": [
        "!pip3 install ortools"
      ],
      "metadata": {
        "colab": {
          "base_uri": "https://localhost:8080/"
        },
        "id": "xiuo3fWzdmtm",
        "outputId": "bbc03d30-0f12-4fb5-a362-0db1a9dc564d"
      },
      "execution_count": 1,
      "outputs": [
        {
          "output_type": "stream",
          "name": "stdout",
          "text": [
            "Collecting ortools\n",
            "  Downloading ortools-9.10.4067-cp310-cp310-manylinux_2_17_x86_64.manylinux2014_x86_64.whl (26.7 MB)\n",
            "\u001b[2K     \u001b[90m━━━━━━━━━━━━━━━━━━━━━━━━━━━━━━━━━━━━━━━━\u001b[0m \u001b[32m26.7/26.7 MB\u001b[0m \u001b[31m22.6 MB/s\u001b[0m eta \u001b[36m0:00:00\u001b[0m\n",
            "\u001b[?25hCollecting absl-py>=2.0.0 (from ortools)\n",
            "  Downloading absl_py-2.1.0-py3-none-any.whl (133 kB)\n",
            "\u001b[2K     \u001b[90m━━━━━━━━━━━━━━━━━━━━━━━━━━━━━━━━━━━━━━━━\u001b[0m \u001b[32m133.7/133.7 kB\u001b[0m \u001b[31m11.3 MB/s\u001b[0m eta \u001b[36m0:00:00\u001b[0m\n",
            "\u001b[?25hRequirement already satisfied: numpy>=1.13.3 in /usr/local/lib/python3.10/dist-packages (from ortools) (1.25.2)\n",
            "Requirement already satisfied: pandas>=2.0.0 in /usr/local/lib/python3.10/dist-packages (from ortools) (2.0.3)\n",
            "Collecting protobuf>=5.26.1 (from ortools)\n",
            "  Downloading protobuf-5.26.1-cp37-abi3-manylinux2014_x86_64.whl (302 kB)\n",
            "\u001b[2K     \u001b[90m━━━━━━━━━━━━━━━━━━━━━━━━━━━━━━━━━━━━━━━━\u001b[0m \u001b[32m302.8/302.8 kB\u001b[0m \u001b[31m11.0 MB/s\u001b[0m eta \u001b[36m0:00:00\u001b[0m\n",
            "\u001b[?25hCollecting immutabledict>=3.0.0 (from ortools)\n",
            "  Downloading immutabledict-4.2.0-py3-none-any.whl (4.7 kB)\n",
            "Requirement already satisfied: python-dateutil>=2.8.2 in /usr/local/lib/python3.10/dist-packages (from pandas>=2.0.0->ortools) (2.8.2)\n",
            "Requirement already satisfied: pytz>=2020.1 in /usr/local/lib/python3.10/dist-packages (from pandas>=2.0.0->ortools) (2023.4)\n",
            "Requirement already satisfied: tzdata>=2022.1 in /usr/local/lib/python3.10/dist-packages (from pandas>=2.0.0->ortools) (2024.1)\n",
            "Requirement already satisfied: six>=1.5 in /usr/local/lib/python3.10/dist-packages (from python-dateutil>=2.8.2->pandas>=2.0.0->ortools) (1.16.0)\n",
            "Installing collected packages: protobuf, immutabledict, absl-py, ortools\n",
            "  Attempting uninstall: protobuf\n",
            "    Found existing installation: protobuf 3.20.3\n",
            "    Uninstalling protobuf-3.20.3:\n",
            "      Successfully uninstalled protobuf-3.20.3\n",
            "  Attempting uninstall: absl-py\n",
            "    Found existing installation: absl-py 1.4.0\n",
            "    Uninstalling absl-py-1.4.0:\n",
            "      Successfully uninstalled absl-py-1.4.0\n",
            "\u001b[31mERROR: pip's dependency resolver does not currently take into account all the packages that are installed. This behaviour is the source of the following dependency conflicts.\n",
            "cudf-cu12 24.4.1 requires protobuf<5,>=3.20, but you have protobuf 5.26.1 which is incompatible.\n",
            "google-ai-generativelanguage 0.6.4 requires protobuf!=3.20.0,!=3.20.1,!=4.21.0,!=4.21.1,!=4.21.2,!=4.21.3,!=4.21.4,!=4.21.5,<5.0.0dev,>=3.19.5, but you have protobuf 5.26.1 which is incompatible.\n",
            "google-api-core 2.11.1 requires protobuf!=3.20.0,!=3.20.1,!=4.21.0,!=4.21.1,!=4.21.2,!=4.21.3,!=4.21.4,!=4.21.5,<5.0.0.dev0,>=3.19.5, but you have protobuf 5.26.1 which is incompatible.\n",
            "google-cloud-aiplatform 1.51.0 requires protobuf!=3.20.0,!=3.20.1,!=4.21.0,!=4.21.1,!=4.21.2,!=4.21.3,!=4.21.4,!=4.21.5,<5.0.0dev,>=3.19.5, but you have protobuf 5.26.1 which is incompatible.\n",
            "google-cloud-bigquery-connection 1.12.1 requires protobuf!=3.20.0,!=3.20.1,!=4.21.0,!=4.21.1,!=4.21.2,!=4.21.3,!=4.21.4,!=4.21.5,<5.0.0dev,>=3.19.5, but you have protobuf 5.26.1 which is incompatible.\n",
            "google-cloud-bigquery-storage 2.25.0 requires protobuf!=3.20.0,!=3.20.1,!=4.21.0,!=4.21.1,!=4.21.2,!=4.21.3,!=4.21.4,!=4.21.5,<5.0.0dev,>=3.19.5, but you have protobuf 5.26.1 which is incompatible.\n",
            "google-cloud-datastore 2.15.2 requires protobuf!=3.20.0,!=3.20.1,!=4.21.0,!=4.21.1,!=4.21.2,!=4.21.3,!=4.21.4,!=4.21.5,<5.0.0dev,>=3.19.5, but you have protobuf 5.26.1 which is incompatible.\n",
            "google-cloud-firestore 2.11.1 requires protobuf!=3.20.0,!=3.20.1,!=4.21.0,!=4.21.1,!=4.21.2,!=4.21.3,!=4.21.4,!=4.21.5,<5.0.0dev,>=3.19.5, but you have protobuf 5.26.1 which is incompatible.\n",
            "google-cloud-functions 1.13.3 requires protobuf!=3.20.0,!=3.20.1,!=4.21.0,!=4.21.1,!=4.21.2,!=4.21.3,!=4.21.4,!=4.21.5,<5.0.0dev,>=3.19.5, but you have protobuf 5.26.1 which is incompatible.\n",
            "google-cloud-iam 2.15.0 requires protobuf!=3.20.0,!=3.20.1,!=4.21.0,!=4.21.1,!=4.21.2,!=4.21.3,!=4.21.4,!=4.21.5,<5.0.0dev,>=3.19.5, but you have protobuf 5.26.1 which is incompatible.\n",
            "google-cloud-language 2.13.3 requires protobuf!=3.20.0,!=3.20.1,!=4.21.0,!=4.21.1,!=4.21.2,!=4.21.3,!=4.21.4,!=4.21.5,<5.0.0dev,>=3.19.5, but you have protobuf 5.26.1 which is incompatible.\n",
            "google-cloud-resource-manager 1.12.3 requires protobuf!=3.20.0,!=3.20.1,!=4.21.0,!=4.21.1,!=4.21.2,!=4.21.3,!=4.21.4,!=4.21.5,<5.0.0dev,>=3.19.5, but you have protobuf 5.26.1 which is incompatible.\n",
            "google-cloud-translate 3.11.3 requires protobuf!=3.20.0,!=3.20.1,!=4.21.0,!=4.21.1,!=4.21.2,!=4.21.3,!=4.21.4,!=4.21.5,<5.0.0dev,>=3.19.5, but you have protobuf 5.26.1 which is incompatible.\n",
            "googleapis-common-protos 1.63.0 requires protobuf!=3.20.0,!=3.20.1,!=4.21.1,!=4.21.2,!=4.21.3,!=4.21.4,!=4.21.5,<5.0.0.dev0,>=3.19.5, but you have protobuf 5.26.1 which is incompatible.\n",
            "grpc-google-iam-v1 0.13.0 requires protobuf!=3.20.0,!=3.20.1,!=4.21.1,!=4.21.2,!=4.21.3,!=4.21.4,!=4.21.5,<5.0.0dev,>=3.19.5, but you have protobuf 5.26.1 which is incompatible.\n",
            "proto-plus 1.23.0 requires protobuf<5.0.0dev,>=3.19.0, but you have protobuf 5.26.1 which is incompatible.\n",
            "tensorflow 2.15.0 requires protobuf!=4.21.0,!=4.21.1,!=4.21.2,!=4.21.3,!=4.21.4,!=4.21.5,<5.0.0dev,>=3.20.3, but you have protobuf 5.26.1 which is incompatible.\n",
            "tensorflow-metadata 1.15.0 requires protobuf<4.21,>=3.20.3; python_version < \"3.11\", but you have protobuf 5.26.1 which is incompatible.\u001b[0m\u001b[31m\n",
            "\u001b[0mSuccessfully installed absl-py-2.1.0 immutabledict-4.2.0 ortools-9.10.4067 protobuf-5.26.1\n"
          ]
        }
      ]
    },
    {
      "cell_type": "code",
      "execution_count": 2,
      "metadata": {
        "colab": {
          "base_uri": "https://localhost:8080/"
        },
        "id": "geMGTBltdM1X",
        "outputId": "cb9f1b7e-c23f-4aad-a82b-44b198eecbf7"
      },
      "outputs": [
        {
          "output_type": "stream",
          "name": "stdout",
          "text": [
            "Solução ótima encontrada:\n",
            "x_0 = 100.0\n",
            "x_1 = 100.0\n",
            "x_2 = 100.0\n",
            "Lucro Máximo: 8000.0\n"
          ]
        }
      ],
      "source": [
        "from ortools.linear_solver import pywraplp\n",
        "\n",
        "# Define o problema\n",
        "n = 3  # Número de parâmetros\n",
        "C = 100  # Capacidade total\n",
        "minimum_productions = [20, 30, 40]  # Produção mínima para cada produto\n",
        "selling_prices = [50, 70, 80]  # preços de cada produto\n",
        "production_costs = [30, 40, 50]  #custos de produção de cada produto\n",
        "\n",
        "# crie o solver\n",
        "solver = pywraplp.Solver.CreateSolver(\"CBC_MIXED_INTEGER_PROGRAMMING\")\n",
        "#solver = pywraplp.Solver('ProductionPlanning', pywraplp.Solver.CBC_MIXED_INTEGER_PROGRAMMING)\n",
        "\n",
        "# Definir as variáveis de decisão\n",
        "x = {}\n",
        "for i in range(n):\n",
        "    x[i] = solver.IntVar(0, C, f'x_{i}')\n",
        "\n",
        "# Definie a função objetivo\n",
        "objective = solver.Objective()\n",
        "for i in range(n):\n",
        "    objective.SetCoefficient(x[i], selling_prices[i] - production_costs[i])\n",
        "objective.SetMaximization()\n",
        "\n",
        "# Adicione restrições\n",
        "for i in range(n):\n",
        "    solver.Add(x[i] <= C)\n",
        "    solver.Add(x[i] >= minimum_productions[i])\n",
        "\n",
        "# resolve o problema\n",
        "status = solver.Solve()\n",
        "\n",
        "# verifique se o problema solucionado\n",
        "if status == pywraplp.Solver.OPTIMAL:\n",
        "    print('Solução ótima encontrada:')\n",
        "    for i in range(n):\n",
        "        print(f'x_{i} = {x[i].solution_value()}')\n",
        "    print(f'Lucro Máximo: {solver.Objective().Value()}')\n",
        "else:\n",
        "    print('Problema não pode ser resolvido')\n",
        "\n"
      ]
    }
  ]
}